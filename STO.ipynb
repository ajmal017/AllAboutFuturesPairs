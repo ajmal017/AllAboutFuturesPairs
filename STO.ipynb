{
 "cells": [
  {
   "cell_type": "markdown",
   "metadata": {},
   "source": [
    "### Load Data From Parquet"
   ]
  },
  {
   "cell_type": "code",
   "execution_count": 1,
   "metadata": {},
   "outputs": [],
   "source": [
    "import pandas as pd\n",
    "\n",
    "df = pd.read_parquet(f'../futures_ta_data/MES_stream_ta_data3.parquet')"
   ]
  },
  {
   "cell_type": "code",
   "execution_count": 2,
   "metadata": {},
   "outputs": [],
   "source": [
    "for col in ['open', 'close', 'high', 'low']:\n",
    "    df.loc[:, f'adj_{col}'] = df[col]"
   ]
  },
  {
   "cell_type": "code",
   "execution_count": 3,
   "metadata": {},
   "outputs": [],
   "source": [
    "def get_entrances(df, sto_thresh_low=20):\n",
    "    df.loc[:, 'sto_oversold_enter'] = 0\n",
    "    bool_index = (df.sto < sto_thresh_low)\n",
    "    bool_index &= ((df.sto_high - df.sto_low) > 8)\n",
    "    df.loc[bool_index, 'sto_oversold_enter'] = 1\n",
    "    enter_cols = ['sto_oversold_enter']\n",
    "    df.loc[:, 'entrances'] = df[enter_cols].sum(axis=1).clip(upper=1)\n",
    "    return df"
   ]
  },
  {
   "cell_type": "code",
   "execution_count": 4,
   "metadata": {},
   "outputs": [],
   "source": [
    "def get_exits(df, sto_overbought=101):\n",
    "    df.loc[:, 'sto_overbought_exit'] = 0\n",
    "    df.loc[df.rsi >= sto_overbought, 'sto_overbought_exit'] = 1\n",
    "    exit_cols = ['sto_overbought_exit']\n",
    "    df.loc[:, 'exits'] = df[exit_cols].sum(axis=1).clip(upper=1)\n",
    "    return df"
   ]
  },
  {
   "cell_type": "code",
   "execution_count": 5,
   "metadata": {},
   "outputs": [],
   "source": [
    "df_enter_exit = get_entrances(get_exits(df))"
   ]
  },
  {
   "cell_type": "code",
   "execution_count": 6,
   "metadata": {},
   "outputs": [],
   "source": [
    "from numba import jit\n",
    "import numpy as np\n",
    "\n",
    "def backtest_seq(df, stop_thresh=0.1, run_length=np.inf,\n",
    "                 prof_avg_offset=30, ewm_prof_offset=100,\n",
    "                 profit_taker=30, long=True):\n",
    "    df.loc[:, 'enter_exit_sig'] = df.entrances - df.exits\n",
    "    df.loc[:, 'next_open'] = df.adj_open.shift(-1)\n",
    "    profit, actual_enter_exit, shares_arr = backtest_numba(\n",
    "        df.enter_exit_sig.values, df.adj_close.values,\n",
    "        df.next_open.values, stop_thresh, run_length,\n",
    "        profit_taker=profit_taker, long=long\n",
    "    )\n",
    "    df.loc[:, 'profit'] = profit\n",
    "    df.loc[:, 'cum_profit'] = df.profit.fillna(0).cumsum()\n",
    "    df.loc[:, 'purch_shares'] = shares_arr\n",
    "    df.loc[:, 'norm_profit'] = profit / (df.next_open * shares_arr)\n",
    "    df.loc[df.profit == 0, 'norm_profit'] = np.nan\n",
    "    df.loc[:, 'avg_profit'] = df.norm_profit.rolling(prof_avg_offset, min_periods=1).mean()\n",
    "    df.loc[:, 'avg_profit_std'] = df.norm_profit.rolling(prof_avg_offset, min_periods=1).std()\n",
    "    df.loc[:, 'eavg_profit'] = df.avg_profit.ewm(ewm_prof_offset, ignore_na=True).mean()\n",
    "    df.loc[:, 'avg_profit'] = df.avg_profit.fillna(0)\n",
    "    df.loc[:, 'actual_enter_exit'] = actual_enter_exit\n",
    "    df.loc[:, 'actual_enter'] = 0\n",
    "    df.loc[:, 'actual_exit'] = 0\n",
    "    df.loc[df.actual_enter_exit == 1, 'actual_enter'] = 1\n",
    "    df.loc[df.actual_enter_exit == -1, 'actual_exit'] = 1\n",
    "    df.loc[:, 'trade_count'] = df.actual_enter_exit.rolling(prof_avg_offset).sum()\n",
    "    return df\n",
    "    \n",
    "\n",
    "@jit(nopython=True)\n",
    "def backtest_numba(enter_exit, close_price, open_price, stop_thresh,\n",
    "                   run_length, profit_taker=30, long=True):\n",
    "    in_trade = False\n",
    "    n = len(enter_exit)\n",
    "    actual_enter_exit = np.zeros(n)\n",
    "    shares_arr = np.zeros(n)\n",
    "    profit = np.zeros(n)\n",
    "    start_price = 0.0\n",
    "    top_price = start_price\n",
    "    shares = 0\n",
    "    for index in range(0, n):\n",
    "        signal = enter_exit[index]\n",
    "        if in_trade and close_price[index] > top_price:\n",
    "            top_price = close_price[index]\n",
    "        if not in_trade and signal == 1:\n",
    "            enter_price = open_price[index]\n",
    "            start_price = close_price[index]\n",
    "            top_price = start_price\n",
    "            shares = 1\n",
    "            shares_arr[index] = shares\n",
    "            shares_cost = enter_price * shares\n",
    "            actual_enter_exit[index] = 1\n",
    "            in_trade = True\n",
    "            enter_index = index\n",
    "        elif in_trade and ((signal == -1) or ((index - enter_index) >= run_length)):\n",
    "            profit[enter_index] = (open_price[index] - enter_price) * shares * (1 if long else -1)\n",
    "            actual_enter_exit[index] = -1\n",
    "            in_trade = False\n",
    "        #elif in_trade and ((top_price - close_price[index]) / top_price) >= stop_thresh:\n",
    "        elif in_trade and ((((start_price - close_price[index]) * (1 if long else -1)) >= stop_thresh) or (((close_price[index] - start_price) * (1 if long else -1)) > profit_taker)):\n",
    "            profit[enter_index] = (open_price[index] - enter_price) * shares * (1 if long else -1)\n",
    "            actual_enter_exit[index] = -1\n",
    "            in_trade = False\n",
    "        elif index == (n - 1) and in_trade:\n",
    "            profit[enter_index] = (open_price[index] - enter_price) * shares * (1 if long else -1)\n",
    "            actual_enter_exit[index] = -1\n",
    "            in_trade = False\n",
    "    return profit, actual_enter_exit, shares_arr"
   ]
  },
  {
   "cell_type": "code",
   "execution_count": 7,
   "metadata": {},
   "outputs": [],
   "source": [
    "df_profits1 = backtest_seq(df_enter_exit, stop_thresh=20.0, profit_taker=20)"
   ]
  },
  {
   "cell_type": "code",
   "execution_count": 8,
   "metadata": {},
   "outputs": [],
   "source": [
    "import numpy as np\n",
    "\n",
    "def get_profit_metrics(df_profits):\n",
    "    wins_losses = {}\n",
    "    col_name = 'profit'\n",
    "    win_index = df_profits[col_name] > 0\n",
    "    loss_index = df_profits[col_name] < 0\n",
    "    mean_win = df_profits.loc[win_index, col_name].mean()\n",
    "    mean_loss = df_profits.loc[loss_index, col_name].mean()\n",
    "    mean_norm_profit_win = df_profits.loc[win_index, 'norm_profit'].mean()\n",
    "    mean_norm_profit_loss = df_profits.loc[loss_index, 'norm_profit'].mean()\n",
    "    mean_norm_profit = df_profits.norm_profit.mean()\n",
    "    sum_win = df_profits.loc[win_index, col_name].sum()\n",
    "    sum_loss = df_profits.loc[loss_index, col_name].sum()\n",
    "    \n",
    "    wins_losses[col_name] = [win_index.sum(), loss_index.sum(), win_index.sum() + loss_index.sum(),\n",
    "                             mean_win, mean_loss,\n",
    "                             mean_norm_profit_win, mean_norm_profit_loss,\n",
    "                             mean_norm_profit,\n",
    "                             sum_win, sum_loss\n",
    "                            ]\n",
    "\n",
    "    df_win_loss = pd.DataFrame(wins_losses, index=['wins', 'losses', 'ttl_trades', 'mean_win',\n",
    "                                                   'mean_loss',\n",
    "                                                   'mean_norm_profit_win', 'mean_norm_profit_loss',\n",
    "                                                   'mean_norm_profit',\n",
    "                                                   'ttl_win', 'ttl_loss']).transpose()\n",
    "    df_win_loss.loc[:, 'win_loss_rate'] =  df_win_loss.wins / (df_win_loss.losses + df_win_loss.wins)\n",
    "    df_win_loss.loc[:, 'win_loss_ratio'] = df_win_loss.mean_win / np.abs(df_win_loss.mean_loss)\n",
    "    \n",
    "    df_win_loss.loc[:, 'profit_factor'] = df_win_loss.ttl_win / np.abs(df_win_loss.ttl_loss)\n",
    "    df_win_loss.loc[:, 'net_profit'] = df_win_loss.ttl_win + df_win_loss.ttl_loss\n",
    "    return df_win_loss"
   ]
  },
  {
   "cell_type": "code",
   "execution_count": 9,
   "metadata": {},
   "outputs": [],
   "source": [
    "df_win_loss = get_profit_metrics(df_profits1)"
   ]
  },
  {
   "cell_type": "code",
   "execution_count": 10,
   "metadata": {},
   "outputs": [
    {
     "data": {
      "text/html": [
       "<div>\n",
       "<style scoped>\n",
       "    .dataframe tbody tr th:only-of-type {\n",
       "        vertical-align: middle;\n",
       "    }\n",
       "\n",
       "    .dataframe tbody tr th {\n",
       "        vertical-align: top;\n",
       "    }\n",
       "\n",
       "    .dataframe thead th {\n",
       "        text-align: right;\n",
       "    }\n",
       "</style>\n",
       "<table border=\"1\" class=\"dataframe\">\n",
       "  <thead>\n",
       "    <tr style=\"text-align: right;\">\n",
       "      <th></th>\n",
       "      <th>wins</th>\n",
       "      <th>losses</th>\n",
       "      <th>ttl_trades</th>\n",
       "      <th>mean_win</th>\n",
       "      <th>mean_loss</th>\n",
       "      <th>mean_norm_profit_win</th>\n",
       "      <th>mean_norm_profit_loss</th>\n",
       "      <th>mean_norm_profit</th>\n",
       "      <th>ttl_win</th>\n",
       "      <th>ttl_loss</th>\n",
       "      <th>win_loss_rate</th>\n",
       "      <th>win_loss_ratio</th>\n",
       "      <th>profit_factor</th>\n",
       "      <th>net_profit</th>\n",
       "    </tr>\n",
       "  </thead>\n",
       "  <tbody>\n",
       "    <tr>\n",
       "      <th>profit</th>\n",
       "      <td>21.0</td>\n",
       "      <td>13.0</td>\n",
       "      <td>34.0</td>\n",
       "      <td>20.571429</td>\n",
       "      <td>-20.480769</td>\n",
       "      <td>0.006415</td>\n",
       "      <td>-0.006391</td>\n",
       "      <td>0.001518</td>\n",
       "      <td>432.0</td>\n",
       "      <td>-266.25</td>\n",
       "      <td>0.617647</td>\n",
       "      <td>1.004427</td>\n",
       "      <td>1.622535</td>\n",
       "      <td>165.75</td>\n",
       "    </tr>\n",
       "  </tbody>\n",
       "</table>\n",
       "</div>"
      ],
      "text/plain": [
       "        wins  losses  ttl_trades   mean_win  mean_loss  mean_norm_profit_win  \\\n",
       "profit  21.0    13.0        34.0  20.571429 -20.480769              0.006415   \n",
       "\n",
       "        mean_norm_profit_loss  mean_norm_profit  ttl_win  ttl_loss  \\\n",
       "profit              -0.006391          0.001518    432.0   -266.25   \n",
       "\n",
       "        win_loss_rate  win_loss_ratio  profit_factor  net_profit  \n",
       "profit       0.617647        1.004427       1.622535      165.75  "
      ]
     },
     "execution_count": 10,
     "metadata": {},
     "output_type": "execute_result"
    }
   ],
   "source": [
    "df_win_loss"
   ]
  },
  {
   "cell_type": "code",
   "execution_count": null,
   "metadata": {},
   "outputs": [],
   "source": [
    "df_win_loss"
   ]
  },
  {
   "cell_type": "code",
   "execution_count": null,
   "metadata": {},
   "outputs": [],
   "source": [
    "df_win_loss"
   ]
  },
  {
   "cell_type": "code",
   "execution_count": null,
   "metadata": {},
   "outputs": [],
   "source": [
    "df_win_loss"
   ]
  },
  {
   "cell_type": "code",
   "execution_count": null,
   "metadata": {},
   "outputs": [],
   "source": [
    "df_profits1.to_parquet('profits/MFIROCLong.parquet')"
   ]
  },
  {
   "cell_type": "code",
   "execution_count": null,
   "metadata": {},
   "outputs": [],
   "source": []
  }
 ],
 "metadata": {
  "kernelspec": {
   "display_name": "Python 3",
   "language": "python",
   "name": "python3"
  },
  "language_info": {
   "codemirror_mode": {
    "name": "ipython",
    "version": 3
   },
   "file_extension": ".py",
   "mimetype": "text/x-python",
   "name": "python",
   "nbconvert_exporter": "python",
   "pygments_lexer": "ipython3",
   "version": "3.7.6"
  }
 },
 "nbformat": 4,
 "nbformat_minor": 4
}
