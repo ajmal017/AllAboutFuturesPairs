{
 "cells": [
  {
   "cell_type": "code",
   "execution_count": 1,
   "metadata": {},
   "outputs": [],
   "source": [
    "def get_third_friday(year, month):\n",
    "    for day in range(15, 22):\n",
    "        day = datetime.datetime(year, month, day)\n",
    "        if day.weekday() == 4:\n",
    "            return day\n",
    "\n",
    "# determines the front running contract for a given date\n",
    "def date_to_contract(contract_date):\n",
    "    third_friday = get_third_friday(contract_date.year, contract_date.month)\n",
    "    if contract_date.month % 3 == 0:\n",
    "        if contract_date > third_friday.date():\n",
    "            if contract_date.month == 12:\n",
    "                year = contract_date.year + 1\n",
    "                month = 3\n",
    "            else:\n",
    "                year = contract_date.year\n",
    "                month = contract_date.month + 3\n",
    "        else:\n",
    "            year = contract_date.year\n",
    "            month = contract_date.month\n",
    "    else:\n",
    "        year = contract_date.year\n",
    "        month = (int(contract_date.month / 3) + 1) * 3\n",
    "    return year, month"
   ]
  },
  {
   "cell_type": "code",
   "execution_count": 2,
   "metadata": {},
   "outputs": [],
   "source": [
    "from ibapi import wrapper\n",
    "from ibapi import client\n",
    "from ibapi import contract\n",
    "from collections import defaultdict\n",
    "import os.path as opath\n",
    "import datetime\n",
    "import copy\n",
    "\n",
    "def app_control(func):\n",
    "    def wrapper(*args, **kwargs):\n",
    "        args[0]._App__close_application = kwargs['close_app']\n",
    "        func(*args, **kwargs)\n",
    "    return wrapper\n",
    "\n",
    "def app_respond(func):\n",
    "    def wrapper(*args, **kwargs):\n",
    "        func(*args, **kwargs)\n",
    "        if args[1] in args[0]._App__proc_req_ids:\n",
    "            args[0]._App__proc_req_ids.remove(args[1])\n",
    "        if (args[0]._App__close_application == True) and (len(args[0]._App__proc_req_ids) == 0):\n",
    "            super(App, args[0]).disconnect()\n",
    "    return wrapper\n",
    "\n",
    "class Wrapper(wrapper.EWrapper):\n",
    "    def __init__(self):\n",
    "        pass\n",
    "\n",
    "class Client(client.EClient):\n",
    "    def __init__(self, wrapper):\n",
    "        client.EClient.__init__(self, wrapper)\n",
    "\n",
    "class App(Wrapper, Client):\n",
    "    def __init__(self):\n",
    "        Wrapper.__init__(self)\n",
    "        Client.__init__(self, wrapper=self)\n",
    "        self.historical_data = defaultdict(list)\n",
    "        self.__current_req_id = None\n",
    "        self.accountsList = None\n",
    "        self.__close_application = False\n",
    "        self.__proc_req_ids = []\n",
    "        \n",
    "    def error(self, reqId: int, errorCode: int, errorString: str):\n",
    "        super().error(reqId, errorCode, errorString)\n",
    "        print(\"Error. Id:\", reqId, \"Code:\", errorCode, \"Msg:\", errorString)\n",
    "\n",
    "    def historicalData(self, reqId, bar):\n",
    "        #print(\"HistoricalData. ReqId:\", reqId, \"BarData.\", bar)\n",
    "        self.historical_data[reqId].append(bar)\n",
    "        \n",
    "    @app_respond\n",
    "    def historicalDataEnd(self, reqId: int, start: str, end: str):\n",
    "        super().historicalDataEnd(reqId, start, end)\n",
    "        print(\"HistoricalDataEnd. ReqId:\", reqId, \"from\", start, \"to\", end)\n",
    "        \n",
    "    def get_contract(self, symbol, secType='STK', currency='USD', exchange='SMART', futures_month=None):\n",
    "        sec_contract = contract.Contract()\n",
    "        sec_contract.includeExpired = True\n",
    "        sec_contract.symbol = symbol\n",
    "        sec_contract.secType = secType\n",
    "        sec_contract.currency = currency\n",
    "        sec_contract.exchange = exchange\n",
    "        sec_contract.lastTradeDateOrContractMonth = futures_month\n",
    "        print(sec_contract.symbol, sec_contract.secType, sec_contract.exchange, sec_contract.currency,\n",
    "              sec_contract.lastTradeDateOrContractMonth)\n",
    "        return sec_contract\n",
    "    \n",
    "    def get_unique_id(self, filepath='counter.txt'):\n",
    "        counter = 1\n",
    "        if not opath.exists(filepath):\n",
    "            with open(filepath, 'w') as cnt_file:\n",
    "                cnt_file.write('1')\n",
    "        else:\n",
    "            with open(filepath, 'r') as cnt_file:\n",
    "                counter = int(cnt_file.read())\n",
    "            with open(filepath, 'w') as cnt_file:\n",
    "                cnt_file.write(str(counter + 1))\n",
    "        return counter\n",
    "    \n",
    "    @app_control\n",
    "    def get_historical_data(self, symbol, secType='STK', exchange='SMART', futures_month='',\n",
    "                            history_len=5, history_unit='D', bar_unit='min', bar_length=1,\n",
    "                            only_RTH=0, **kwargs):\n",
    "        unq_id = self.get_unique_id()\n",
    "        req_id = int(f'{futures_month}{unq_id}')\n",
    "        self.__current_req_id = req_id\n",
    "        sec_contract = self.get_contract(symbol, secType=secType, exchange=exchange, futures_month=futures_month)\n",
    "        sym_data = self.reqHistoricalData(req_id, sec_contract, \"\", f\"{history_len} {history_unit}\",\n",
    "                                          f\"{bar_length} {bar_unit}\", 'TRADES', only_RTH, 1, False, [])\n",
    "        self.__proc_req_ids = [req_id]\n",
    "        return req_id\n",
    "\n",
    "    @app_control\n",
    "    def get_historical_data_futures(self, symbol, exchange='GLOBEX',\n",
    "                            history_len=5, history_unit='D', bar_unit='min', bar_length=1,\n",
    "                            only_RTH=0, **kwargs):\n",
    "        days = [(datetime.datetime.now() - datetime.timedelta(days=day)).date() for day in range(history_len)]\n",
    "        contracts = set([date_to_contract(day) for day in days])\n",
    "        req_ids = []\n",
    "        for contract in contracts:\n",
    "            unq_id = self.get_unique_id()\n",
    "            req_id = int(f'{contract[0]}{contract[1]:02}{unq_id}')\n",
    "            self.__current_req_id = req_id\n",
    "            sec_contract = self.get_contract(symbol, secType='FUT', exchange=exchange,\n",
    "                                             futures_month=f'{contract[0]}{contract[1]:02}')\n",
    "            sym_data = self.reqHistoricalData(req_id, sec_contract, \"\", f\"{history_len} {history_unit}\",\n",
    "                                              f\"{bar_length} {bar_unit}\", 'TRADES', only_RTH, 1, False, [])\n",
    "            req_ids.append(req_id)\n",
    "        self.__proc_req_ids = copy.deepcopy(req_ids)\n",
    "        return req_ids\n",
    "    \n",
    "    def get_managed_accounts(self):\n",
    "        self.reqManagedAccts()\n",
    "        \n",
    "    def managedAccounts(self, accountsList):\n",
    "        print(\"got account list \" + accountsList)\n",
    "        self.accountsList = accountsList\n",
    "        \n",
    "    def get_positions(self):\n",
    "        self.reqPositions()\n",
    "        \n",
    "    def position(self, account: str, contract: contract.Contract, position: float,\n",
    "                 avgCost: float):\n",
    "        super().position(account, contract, position, avgCost)\n",
    "        print(\"Position.\", \"Account:\", account, \"Symbol:\", contract.sy\n",
    "              , \"SecType:\",\n",
    "              contract.secType, \"Currency:\", contract.currency,\n",
    "              \"Position:\", position, \"Avg cost:\", avgCost)\n",
    "    \n",
    "    def positionEnd(self):\n",
    "        super().positionEnd()\n",
    "        print(\"PositionEnd\")\n",
    "        \n",
    "    #next step... functions to place orders"
   ]
  },
  {
   "cell_type": "code",
   "execution_count": 3,
   "metadata": {},
   "outputs": [],
   "source": [
    "app = App()"
   ]
  },
  {
   "cell_type": "code",
   "execution_count": 4,
   "metadata": {},
   "outputs": [],
   "source": [
    "app.connect('127.0.0.1',  7497, clientId=0)"
   ]
  },
  {
   "cell_type": "markdown",
   "metadata": {},
   "source": [
    "futures_month=  '202003'\n",
    "appl_req_ids = app.get_historical_data(\n",
    "    'MES', close_app=True, only_RTH=0, history_len=90,\n",
    "    secType='FUT', exchange='GLOBEX', futures_month=futures_month)"
   ]
  },
  {
   "cell_type": "code",
   "execution_count": 5,
   "metadata": {},
   "outputs": [
    {
     "name": "stdout",
     "output_type": "stream",
     "text": [
      "MES FUT GLOBEX USD 202009\n",
      "MES FUT GLOBEX USD 202006\n"
     ]
    }
   ],
   "source": [
    "appl_req_ids = app.get_historical_data_futures(\n",
    "    'MES', close_app=True, only_RTH=0, history_len=60,  bar_length=5, bar_unit='mins',\n",
    "    secType='FUT', exchange='GLOBEX')"
   ]
  },
  {
   "cell_type": "code",
   "execution_count": 6,
   "metadata": {},
   "outputs": [
    {
     "name": "stderr",
     "output_type": "stream",
     "text": [
      "ERROR -1 2104 Market data farm connection is OK:hfarm\n",
      "ERROR -1 2104 Market data farm connection is OK:usfarm.nj\n",
      "ERROR -1 2104 Market data farm connection is OK:eufarm\n",
      "ERROR -1 2104 Market data farm connection is OK:jfarm\n",
      "ERROR -1 2104 Market data farm connection is OK:usfuture\n",
      "ERROR -1 2104 Market data farm connection is OK:cashfarm\n",
      "ERROR -1 2104 Market data farm connection is OK:usfarm\n",
      "ERROR -1 2106 HMDS data farm connection is OK:euhmds\n",
      "ERROR -1 2106 HMDS data farm connection is OK:fundfarm\n",
      "ERROR -1 2106 HMDS data farm connection is OK:ushmds\n",
      "ERROR -1 2158 Sec-def data farm connection is OK:secdefnj\n"
     ]
    },
    {
     "name": "stdout",
     "output_type": "stream",
     "text": [
      "got account list DU1809875\n",
      "Error. Id: -1 Code: 2104 Msg: Market data farm connection is OK:hfarm\n",
      "Error. Id: -1 Code: 2104 Msg: Market data farm connection is OK:usfarm.nj\n",
      "Error. Id: -1 Code: 2104 Msg: Market data farm connection is OK:eufarm\n",
      "Error. Id: -1 Code: 2104 Msg: Market data farm connection is OK:jfarm\n",
      "Error. Id: -1 Code: 2104 Msg: Market data farm connection is OK:usfuture\n",
      "Error. Id: -1 Code: 2104 Msg: Market data farm connection is OK:cashfarm\n",
      "Error. Id: -1 Code: 2104 Msg: Market data farm connection is OK:usfarm\n",
      "Error. Id: -1 Code: 2106 Msg: HMDS data farm connection is OK:euhmds\n",
      "Error. Id: -1 Code: 2106 Msg: HMDS data farm connection is OK:fundfarm\n",
      "Error. Id: -1 Code: 2106 Msg: HMDS data farm connection is OK:ushmds\n",
      "Error. Id: -1 Code: 2158 Msg: Sec-def data farm connection is OK:secdefnj\n",
      "HistoricalDataEnd. ReqId: 2020099 from 20200609  12:59:35 to 20200808  12:59:35\n",
      "HistoricalDataEnd. ReqId: 20200610 from 20200609  12:59:35 to 20200808  12:59:35\n"
     ]
    }
   ],
   "source": [
    "app.run()"
   ]
  },
  {
   "cell_type": "code",
   "execution_count": 7,
   "metadata": {},
   "outputs": [],
   "source": [
    "import datetime as datetime\n",
    "import pandas as pd\n",
    "\n",
    "def convert_bar_to_df_futures(bars_dict):\n",
    "    bar_data = []\n",
    "    for key in bars_dict:\n",
    "        key_str = str(key)\n",
    "        year = int(key_str[:4])\n",
    "        month = int(key_str[4:6])\n",
    "        for bar in bars_dict[key]:\n",
    "            bar_data.append(\n",
    "                [datetime.datetime.strptime(\n",
    "                    bar.date, '%Y%m%d  %H:%M:%S'\n",
    "                 ),\n",
    "                 bar.open, bar.high, bar.low, bar.close, bar.volume, year, month])\n",
    "            \n",
    "    df = pd.DataFrame(bar_data, columns=['time', 'open', 'high', 'low', 'close', 'volume',\n",
    "                                         'contract_year', 'contract_month'])\n",
    "    unique_dates = df.time.dt.date.unique()\n",
    "    date_dict = {date: date_to_contract(date) for date in unique_dates}\n",
    "    expiry = df.time.dt.date.map(date_dict)\n",
    "    expiry_year, expiry_month = zip(*expiry.values)\n",
    "    df.loc[:, 'expiry_year'] = expiry_year\n",
    "    df.loc[:, 'expiry_month'] = expiry_month\n",
    "    df = df.loc[(df.expiry_year == df.contract_year) & (df.expiry_month == df.contract_month)]\n",
    "    return df\n",
    "\n",
    "\n",
    "def convert_bar_to_df(bars):\n",
    "    bar_data = [ \n",
    "        [datetime.datetime.strptime(\n",
    "            bar.date, '%Y%m%d  %H:%M:%S'\n",
    "         ),\n",
    "         bar.open, bar.high, bar.low, bar.close, bar.volume]\n",
    "        for bar in bars\n",
    "    ]\n",
    "    df = pd.DataFrame(bar_data, columns=['time', 'open', 'high', 'low', 'close', 'volume'])\n",
    "    return df"
   ]
  },
  {
   "cell_type": "code",
   "execution_count": 8,
   "metadata": {},
   "outputs": [],
   "source": [
    "df = convert_bar_to_df_futures(app.historical_data)"
   ]
  },
  {
   "cell_type": "code",
   "execution_count": 19,
   "metadata": {},
   "outputs": [],
   "source": [
    "df.to_parquet('../futures_data/MES.parquet')"
   ]
  },
  {
   "cell_type": "code",
   "execution_count": 15,
   "metadata": {},
   "outputs": [],
   "source": [
    "df.loc[:, 'dividend'] = 0.0\n",
    "df.loc[:, 'split'] = 1.0\n",
    "df.loc[:, 'date'] = df.time.astype(str)"
   ]
  },
  {
   "cell_type": "code",
   "execution_count": 20,
   "metadata": {},
   "outputs": [],
   "source": [
    "df[['date', 'open', 'high', 'low', 'close', 'volume', 'dividend', 'split']].to_csv('../futures_data/MES.csv', index=False)"
   ]
  },
  {
   "cell_type": "code",
   "execution_count": null,
   "metadata": {},
   "outputs": [],
   "source": []
  }
 ],
 "metadata": {
  "kernelspec": {
   "display_name": "Python 3",
   "language": "python",
   "name": "python3"
  },
  "language_info": {
   "codemirror_mode": {
    "name": "ipython",
    "version": 3
   },
   "file_extension": ".py",
   "mimetype": "text/x-python",
   "name": "python",
   "nbconvert_exporter": "python",
   "pygments_lexer": "ipython3",
   "version": "3.7.6"
  }
 },
 "nbformat": 4,
 "nbformat_minor": 4
}
