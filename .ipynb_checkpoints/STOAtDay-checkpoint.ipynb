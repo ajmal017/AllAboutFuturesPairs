{
 "cells": [
  {
   "cell_type": "markdown",
   "metadata": {},
   "source": [
    "### Load Data From Parquet"
   ]
  },
  {
   "cell_type": "code",
   "execution_count": 1,
   "metadata": {},
   "outputs": [],
   "source": [
    "import pandas as pd\n",
    "\n",
    "df = pd.read_parquet(f'../futures_ta_data/MES_stream_ta_data3.parquet')"
   ]
  },
  {
   "cell_type": "code",
   "execution_count": 2,
   "metadata": {},
   "outputs": [],
   "source": [
    "df.loc[:, 'time'] = df.date.apply(lambda x: pd.Timestamp(x))"
   ]
  },
  {
   "cell_type": "code",
   "execution_count": 3,
   "metadata": {},
   "outputs": [],
   "source": [
    "from datetime import timedelta\n",
    "\n",
    "df.loc[:, 'date'] = df.time.dt.floor('d')\n",
    "df.loc[:, 'hour'] = df.time.dt.hour\n",
    "df.loc[:, 'minute'] = df.time.dt.minute\n",
    "df.loc[:, 'following_open'] = df.loc[:, 'date']\n",
    "df.loc[:, 'close_tm'] = df.loc[:, 'date']\n",
    "\n",
    "# before midnight group\n",
    "before_midnight = (df.hour >= 16)\n",
    "# after midnit group\n",
    "after_midnight = (df.hour < 9) | ((df.hour == 9) & (df.minute < 30))\n",
    "\n",
    "df.loc[before_midnight, 'close_tm'] = df.loc[before_midnight, 'date'] + pd.Timedelta(hours=16)\n",
    "df.loc[before_midnight, 'following_open'] = df.loc[before_midnight, 'date'] + pd.Timedelta(days=1, hours=9, minutes=30) \n",
    "\n",
    "df.loc[after_midnight, 'close_tm'] = df.loc[after_midnight, 'date'] - pd.Timedelta(hours=8)\n",
    "df.loc[after_midnight, 'following_open'] = df.loc[after_midnight, 'date'] + pd.Timedelta(hours=9, minutes=30)\n",
    "\n",
    "df.loc[:, 'after_hours'] = 0\n",
    "df.loc[df.time.between(df.close_tm, df.following_open), 'after_hours'] = 1"
   ]
  },
  {
   "cell_type": "code",
   "execution_count": 4,
   "metadata": {},
   "outputs": [],
   "source": [
    "df.loc[:, 'sto_range'] = df.sto_high - df.sto_low"
   ]
  },
  {
   "cell_type": "code",
   "execution_count": 5,
   "metadata": {},
   "outputs": [
    {
     "data": {
      "text/plain": [
       "count    40950.000000\n",
       "mean        44.961905\n",
       "std         19.835110\n",
       "min          0.000000\n",
       "25%         31.750000\n",
       "50%         41.000000\n",
       "75%         55.000000\n",
       "max        114.000000\n",
       "Name: sto_range, dtype: float64"
      ]
     },
     "execution_count": 5,
     "metadata": {},
     "output_type": "execute_result"
    }
   ],
   "source": [
    "df.sto_range.describe()"
   ]
  },
  {
   "cell_type": "code",
   "execution_count": 6,
   "metadata": {},
   "outputs": [
    {
     "data": {
      "text/plain": [
       "date              2020-07-15 00:00:00\n",
       "open                          3230.75\n",
       "high                             3233\n",
       "low                            3230.5\n",
       "close                         3231.25\n",
       "volume                           3436\n",
       "rsi                           73.4704\n",
       "adx                           21.1637\n",
       "mean_pr                       3231.25\n",
       "sma_pr                        3210.57\n",
       "ewa_pr                        3228.93\n",
       "pr_diff_ewa                  0.074924\n",
       "volume_roc                      1.063\n",
       "sto                           98.4649\n",
       "sto_high                         3233\n",
       "sto_low                          3119\n",
       "time              2020-07-15 08:54:00\n",
       "hour                                8\n",
       "minute                             54\n",
       "following_open    2020-07-15 09:30:00\n",
       "close_tm          2020-07-14 16:00:00\n",
       "after_hours                         1\n",
       "sto_range                         114\n",
       "Name: 10449, dtype: object"
      ]
     },
     "execution_count": 6,
     "metadata": {},
     "output_type": "execute_result"
    }
   ],
   "source": [
    "df.loc[df.sto_range.argmax()]"
   ]
  },
  {
   "cell_type": "code",
   "execution_count": 7,
   "metadata": {},
   "outputs": [],
   "source": [
    "after_hrs_df = df.loc[df.time.between(df.close_tm, df.following_open)].iloc[:5000]"
   ]
  },
  {
   "cell_type": "code",
   "execution_count": null,
   "metadata": {},
   "outputs": [],
   "source": [
    "after_hrs_df = after_hrs_df.sort_values('time')"
   ]
  },
  {
   "cell_type": "code",
   "execution_count": null,
   "metadata": {},
   "outputs": [],
   "source": [
    "after_hrs_df.loc[:, 'tooltip'] = 'sto: ' + after_hrs_df.sto.astype(str) + '\\nsto range:' + after_hrs_df.sto_range.astype(str) \\\n",
    "                                 + 'sto high: ' + after_hrs_df.sto_high.astype(str) + ' sto low:' + after_hrs_df.sto_low.astype(str)"
   ]
  },
  {
   "cell_type": "code",
   "execution_count": null,
   "metadata": {},
   "outputs": [],
   "source": [
    "import plotly.graph_objects as go\n",
    "\n",
    "fig = go.Figure()\n",
    "\n",
    "fig.add_trace(\n",
    "    go.Candlestick(\n",
    "        x=after_hrs_df.time, open=after_hrs_df.open, high=after_hrs_df.high,\n",
    "        low=after_hrs_df.low, close=after_hrs_df.close, name='bars',\n",
    "        text=after_hrs_df.tooltip\n",
    "    )\n",
    ")\n",
    "fig.update_layout(title=f'Contract ', xaxis_rangeslider_visible=False)"
   ]
  },
  {
   "cell_type": "code",
   "execution_count": null,
   "metadata": {},
   "outputs": [],
   "source": [
    "min_max = after_hrs_df.groupby(['following_open', 'close_tm']).agg({'high': 'max', 'low': 'min'})"
   ]
  },
  {
   "cell_type": "code",
   "execution_count": null,
   "metadata": {},
   "outputs": [],
   "source": [
    "min_max.loc[:, 'range'] = min_max.high - min_max.low"
   ]
  },
  {
   "cell_type": "code",
   "execution_count": null,
   "metadata": {},
   "outputs": [],
   "source": [
    "min_max.range.describe(percentiles=[x * 0.1 for x in range(10)])"
   ]
  },
  {
   "cell_type": "code",
   "execution_count": null,
   "metadata": {},
   "outputs": [],
   "source": []
  },
  {
   "cell_type": "code",
   "execution_count": 5,
   "metadata": {},
   "outputs": [],
   "source": [
    "for col in ['open', 'close', 'high', 'low']:\n",
    "    df.loc[:, f'adj_{col}'] = df[col]"
   ]
  },
  {
   "cell_type": "code",
   "execution_count": 6,
   "metadata": {},
   "outputs": [],
   "source": [
    "def get_entrances(df, sto_thresh_low=20):\n",
    "    df.loc[:, 'sto_oversold_enter'] = 0\n",
    "    bool_index = (df.sto < sto_thresh_low)\n",
    "    bool_index &= (df.rsi < 55)\n",
    "    bool_index &= ((df.sto_high - df.sto_low) >= 35)\n",
    "    #bool_index &= (df.after_hours == 1)\n",
    "    df.loc[bool_index, 'sto_oversold_enter'] = 1\n",
    "    enter_cols = ['sto_oversold_enter']\n",
    "    df.loc[:, 'entrances'] = df[enter_cols].sum(axis=1).clip(upper=1)\n",
    "    return df"
   ]
  },
  {
   "cell_type": "code",
   "execution_count": 7,
   "metadata": {},
   "outputs": [],
   "source": [
    "def get_exits(df, sto_overbought=101):\n",
    "    df.loc[:, 'sto_overbought_exit'] = 0\n",
    "    df.loc[df.rsi >= sto_overbought, 'sto_overbought_exit'] = 1\n",
    "    exit_cols = ['sto_overbought_exit']\n",
    "    df.loc[:, 'exits'] = df[exit_cols].sum(axis=1).clip(upper=1)\n",
    "    return df"
   ]
  },
  {
   "cell_type": "code",
   "execution_count": 8,
   "metadata": {},
   "outputs": [],
   "source": [
    "df_enter_exit = get_entrances(get_exits(df))"
   ]
  },
  {
   "cell_type": "code",
   "execution_count": 9,
   "metadata": {},
   "outputs": [],
   "source": [
    "from numba import jit\n",
    "import numpy as np\n",
    "\n",
    "def backtest_seq(df, stop_thresh=0.1, run_length=np.inf,\n",
    "                 prof_avg_offset=30, ewm_prof_offset=100,\n",
    "                 profit_taker=30):\n",
    "    df.loc[:, 'enter_exit_sig'] = df.entrances - df.exits\n",
    "    df.loc[:, 'next_open'] = df.adj_open.shift(-1)\n",
    "    profit, actual_enter_exit, shares_arr = backtest_numba(\n",
    "        df.enter_exit_sig.values, df.adj_close.values,\n",
    "        df.next_open.values, stop_thresh, run_length,\n",
    "        profit_taker=profit_taker\n",
    "    )\n",
    "    df.loc[:, 'profit'] = profit\n",
    "    df.loc[:, 'cum_profit'] = df.profit.fillna(0).cumsum()\n",
    "    df.loc[:, 'purch_shares'] = shares_arr\n",
    "    df.loc[:, 'norm_profit'] = profit / (df.next_open * shares_arr)\n",
    "    df.loc[df.profit == 0, 'norm_profit'] = np.nan\n",
    "    df.loc[:, 'avg_profit'] = df.norm_profit.rolling(prof_avg_offset, min_periods=1).mean()\n",
    "    df.loc[:, 'avg_profit_std'] = df.norm_profit.rolling(prof_avg_offset, min_periods=1).std()\n",
    "    df.loc[:, 'eavg_profit'] = df.avg_profit.ewm(ewm_prof_offset, ignore_na=True).mean()\n",
    "    df.loc[:, 'avg_profit'] = df.avg_profit.fillna(0)\n",
    "    df.loc[:, 'actual_enter_exit'] = actual_enter_exit\n",
    "    df.loc[:, 'actual_enter'] = 0\n",
    "    df.loc[:, 'actual_exit'] = 0\n",
    "    df.loc[df.actual_enter_exit == 1, 'actual_enter'] = 1\n",
    "    df.loc[df.actual_enter_exit == -1, 'actual_exit'] = 1\n",
    "    df.loc[:, 'trade_count'] = df.actual_enter_exit.rolling(prof_avg_offset).sum()\n",
    "    return df\n",
    "    \n",
    "\n",
    "@jit(nopython=True)\n",
    "def backtest_numba(enter_exit, close_price, open_price, stop_thresh,\n",
    "                   run_length, profit_taker=30):\n",
    "    in_trade = False\n",
    "    n = len(enter_exit)\n",
    "    actual_enter_exit = np.zeros(n)\n",
    "    shares_arr = np.zeros(n)\n",
    "    profit = np.zeros(n)\n",
    "    start_price = 0.0\n",
    "    top_price = start_price\n",
    "    shares = 0\n",
    "    for index in range(0, n):\n",
    "        signal = enter_exit[index]\n",
    "        if in_trade and close_price[index] > top_price:\n",
    "            top_price = close_price[index]\n",
    "        if not in_trade and signal == 1:\n",
    "            enter_price = open_price[index]\n",
    "            start_price = close_price[index]\n",
    "            top_price = start_price\n",
    "            shares = 1\n",
    "            shares_arr[index] = shares\n",
    "            shares_cost = enter_price * shares\n",
    "            actual_enter_exit[index] = 1\n",
    "            in_trade = True\n",
    "            enter_index = index\n",
    "        elif in_trade and ((signal == -1) or ((index - enter_index) >= run_length)):\n",
    "            profit[enter_index] = (open_price[index] - enter_price) * shares\n",
    "            actual_enter_exit[index] = -1\n",
    "            in_trade = False\n",
    "        #elif in_trade and ((top_price - close_price[index]) / top_price) >= stop_thresh:\n",
    "        elif in_trade and (((start_price - close_price[index]) >= stop_thresh) or ((close_price[index] - start_price) > profit_taker)):\n",
    "            profit[enter_index] = (open_price[index] - enter_price) * shares\n",
    "            actual_enter_exit[index] = -1\n",
    "            in_trade = False\n",
    "        elif index == (n - 1) and in_trade:\n",
    "            profit[enter_index] = (open_price[index] - enter_price) * shares\n",
    "            actual_enter_exit[index] = -1\n",
    "            in_trade = False\n",
    "    return profit, actual_enter_exit, shares_arr"
   ]
  },
  {
   "cell_type": "code",
   "execution_count": 10,
   "metadata": {},
   "outputs": [],
   "source": [
    "df_profits1 = backtest_seq(df_enter_exit, stop_thresh=10.0, profit_taker=10)"
   ]
  },
  {
   "cell_type": "code",
   "execution_count": 11,
   "metadata": {},
   "outputs": [],
   "source": [
    "import numpy as np\n",
    "\n",
    "def get_profit_metrics(df_profits):\n",
    "    wins_losses = {}\n",
    "    col_name = 'profit'\n",
    "    win_index = df_profits[col_name] > 0\n",
    "    loss_index = df_profits[col_name] < 0\n",
    "    mean_win = df_profits.loc[win_index, col_name].mean()\n",
    "    mean_loss = df_profits.loc[loss_index, col_name].mean()\n",
    "    mean_norm_profit_win = df_profits.loc[win_index, 'norm_profit'].mean()\n",
    "    mean_norm_profit_loss = df_profits.loc[loss_index, 'norm_profit'].mean()\n",
    "    mean_norm_profit = df_profits.norm_profit.mean()\n",
    "    sum_win = df_profits.loc[win_index, col_name].sum()\n",
    "    sum_loss = df_profits.loc[loss_index, col_name].sum()\n",
    "    \n",
    "    wins_losses[col_name] = [win_index.sum(), loss_index.sum(), win_index.sum() + loss_index.sum(),\n",
    "                             mean_win, mean_loss,\n",
    "                             mean_norm_profit_win, mean_norm_profit_loss,\n",
    "                             mean_norm_profit,\n",
    "                             sum_win, sum_loss\n",
    "                            ]\n",
    "\n",
    "    df_win_loss = pd.DataFrame(wins_losses, index=['wins', 'losses', 'ttl_trades', 'mean_win',\n",
    "                                                   'mean_loss',\n",
    "                                                   'mean_norm_profit_win', 'mean_norm_profit_loss',\n",
    "                                                   'mean_norm_profit',\n",
    "                                                   'ttl_win', 'ttl_loss']).transpose()\n",
    "    df_win_loss.loc[:, 'win_loss_rate'] =  df_win_loss.wins / (df_win_loss.losses + df_win_loss.wins)\n",
    "    df_win_loss.loc[:, 'win_loss_ratio'] = df_win_loss.mean_win / np.abs(df_win_loss.mean_loss)\n",
    "    \n",
    "    df_win_loss.loc[:, 'profit_factor'] = df_win_loss.ttl_win / np.abs(df_win_loss.ttl_loss)\n",
    "    df_win_loss.loc[:, 'net_profit'] = df_win_loss.ttl_win + df_win_loss.ttl_loss\n",
    "    return df_win_loss"
   ]
  },
  {
   "cell_type": "code",
   "execution_count": 12,
   "metadata": {},
   "outputs": [],
   "source": [
    "df_win_loss = get_profit_metrics(df_profits1)"
   ]
  },
  {
   "cell_type": "code",
   "execution_count": 53,
   "metadata": {},
   "outputs": [
    {
     "data": {
      "text/html": [
       "<div>\n",
       "<style scoped>\n",
       "    .dataframe tbody tr th:only-of-type {\n",
       "        vertical-align: middle;\n",
       "    }\n",
       "\n",
       "    .dataframe tbody tr th {\n",
       "        vertical-align: top;\n",
       "    }\n",
       "\n",
       "    .dataframe thead th {\n",
       "        text-align: right;\n",
       "    }\n",
       "</style>\n",
       "<table border=\"1\" class=\"dataframe\">\n",
       "  <thead>\n",
       "    <tr style=\"text-align: right;\">\n",
       "      <th></th>\n",
       "      <th>wins</th>\n",
       "      <th>losses</th>\n",
       "      <th>ttl_trades</th>\n",
       "      <th>mean_win</th>\n",
       "      <th>mean_loss</th>\n",
       "      <th>mean_norm_profit_win</th>\n",
       "      <th>mean_norm_profit_loss</th>\n",
       "      <th>mean_norm_profit</th>\n",
       "      <th>ttl_win</th>\n",
       "      <th>ttl_loss</th>\n",
       "      <th>win_loss_rate</th>\n",
       "      <th>win_loss_ratio</th>\n",
       "      <th>profit_factor</th>\n",
       "      <th>net_profit</th>\n",
       "    </tr>\n",
       "  </thead>\n",
       "  <tbody>\n",
       "    <tr>\n",
       "      <th>profit</th>\n",
       "      <td>21.0</td>\n",
       "      <td>11.0</td>\n",
       "      <td>32.0</td>\n",
       "      <td>11.178571</td>\n",
       "      <td>-10.795455</td>\n",
       "      <td>0.003511</td>\n",
       "      <td>-0.003387</td>\n",
       "      <td>0.00114</td>\n",
       "      <td>234.75</td>\n",
       "      <td>-118.75</td>\n",
       "      <td>0.65625</td>\n",
       "      <td>1.035489</td>\n",
       "      <td>1.976842</td>\n",
       "      <td>116.0</td>\n",
       "    </tr>\n",
       "  </tbody>\n",
       "</table>\n",
       "</div>"
      ],
      "text/plain": [
       "        wins  losses  ttl_trades   mean_win  mean_loss  mean_norm_profit_win  \\\n",
       "profit  21.0    11.0        32.0  11.178571 -10.795455              0.003511   \n",
       "\n",
       "        mean_norm_profit_loss  mean_norm_profit  ttl_win  ttl_loss  \\\n",
       "profit              -0.003387           0.00114   234.75   -118.75   \n",
       "\n",
       "        win_loss_rate  win_loss_ratio  profit_factor  net_profit  \n",
       "profit        0.65625        1.035489       1.976842       116.0  "
      ]
     },
     "execution_count": 53,
     "metadata": {},
     "output_type": "execute_result"
    }
   ],
   "source": [
    "df_win_loss"
   ]
  },
  {
   "cell_type": "code",
   "execution_count": 24,
   "metadata": {},
   "outputs": [
    {
     "data": {
      "text/html": [
       "<div>\n",
       "<style scoped>\n",
       "    .dataframe tbody tr th:only-of-type {\n",
       "        vertical-align: middle;\n",
       "    }\n",
       "\n",
       "    .dataframe tbody tr th {\n",
       "        vertical-align: top;\n",
       "    }\n",
       "\n",
       "    .dataframe thead th {\n",
       "        text-align: right;\n",
       "    }\n",
       "</style>\n",
       "<table border=\"1\" class=\"dataframe\">\n",
       "  <thead>\n",
       "    <tr style=\"text-align: right;\">\n",
       "      <th></th>\n",
       "      <th>wins</th>\n",
       "      <th>losses</th>\n",
       "      <th>ttl_trades</th>\n",
       "      <th>mean_win</th>\n",
       "      <th>mean_loss</th>\n",
       "      <th>mean_norm_profit_win</th>\n",
       "      <th>mean_norm_profit_loss</th>\n",
       "      <th>mean_norm_profit</th>\n",
       "      <th>ttl_win</th>\n",
       "      <th>ttl_loss</th>\n",
       "      <th>win_loss_rate</th>\n",
       "      <th>win_loss_ratio</th>\n",
       "      <th>profit_factor</th>\n",
       "      <th>net_profit</th>\n",
       "    </tr>\n",
       "  </thead>\n",
       "  <tbody>\n",
       "    <tr>\n",
       "      <th>profit</th>\n",
       "      <td>20.0</td>\n",
       "      <td>11.0</td>\n",
       "      <td>31.0</td>\n",
       "      <td>11.3375</td>\n",
       "      <td>-10.818182</td>\n",
       "      <td>0.003568</td>\n",
       "      <td>-0.003394</td>\n",
       "      <td>0.001097</td>\n",
       "      <td>226.75</td>\n",
       "      <td>-119.0</td>\n",
       "      <td>0.645161</td>\n",
       "      <td>1.048004</td>\n",
       "      <td>1.905462</td>\n",
       "      <td>107.75</td>\n",
       "    </tr>\n",
       "  </tbody>\n",
       "</table>\n",
       "</div>"
      ],
      "text/plain": [
       "        wins  losses  ttl_trades  mean_win  mean_loss  mean_norm_profit_win  \\\n",
       "profit  20.0    11.0        31.0   11.3375 -10.818182              0.003568   \n",
       "\n",
       "        mean_norm_profit_loss  mean_norm_profit  ttl_win  ttl_loss  \\\n",
       "profit              -0.003394          0.001097   226.75    -119.0   \n",
       "\n",
       "        win_loss_rate  win_loss_ratio  profit_factor  net_profit  \n",
       "profit       0.645161        1.048004       1.905462      107.75  "
      ]
     },
     "execution_count": 24,
     "metadata": {},
     "output_type": "execute_result"
    }
   ],
   "source": [
    "df_win_loss"
   ]
  },
  {
   "cell_type": "code",
   "execution_count": 13,
   "metadata": {},
   "outputs": [
    {
     "data": {
      "text/html": [
       "<div>\n",
       "<style scoped>\n",
       "    .dataframe tbody tr th:only-of-type {\n",
       "        vertical-align: middle;\n",
       "    }\n",
       "\n",
       "    .dataframe tbody tr th {\n",
       "        vertical-align: top;\n",
       "    }\n",
       "\n",
       "    .dataframe thead th {\n",
       "        text-align: right;\n",
       "    }\n",
       "</style>\n",
       "<table border=\"1\" class=\"dataframe\">\n",
       "  <thead>\n",
       "    <tr style=\"text-align: right;\">\n",
       "      <th></th>\n",
       "      <th>wins</th>\n",
       "      <th>losses</th>\n",
       "      <th>ttl_trades</th>\n",
       "      <th>mean_win</th>\n",
       "      <th>mean_loss</th>\n",
       "      <th>mean_norm_profit_win</th>\n",
       "      <th>mean_norm_profit_loss</th>\n",
       "      <th>mean_norm_profit</th>\n",
       "      <th>ttl_win</th>\n",
       "      <th>ttl_loss</th>\n",
       "      <th>win_loss_rate</th>\n",
       "      <th>win_loss_ratio</th>\n",
       "      <th>profit_factor</th>\n",
       "      <th>net_profit</th>\n",
       "    </tr>\n",
       "  </thead>\n",
       "  <tbody>\n",
       "    <tr>\n",
       "      <th>profit</th>\n",
       "      <td>38.0</td>\n",
       "      <td>28.0</td>\n",
       "      <td>66.0</td>\n",
       "      <td>11.236842</td>\n",
       "      <td>-10.839286</td>\n",
       "      <td>0.003533</td>\n",
       "      <td>-0.003394</td>\n",
       "      <td>0.000594</td>\n",
       "      <td>427.0</td>\n",
       "      <td>-303.5</td>\n",
       "      <td>0.575758</td>\n",
       "      <td>1.036677</td>\n",
       "      <td>1.406919</td>\n",
       "      <td>123.5</td>\n",
       "    </tr>\n",
       "  </tbody>\n",
       "</table>\n",
       "</div>"
      ],
      "text/plain": [
       "        wins  losses  ttl_trades   mean_win  mean_loss  mean_norm_profit_win  \\\n",
       "profit  38.0    28.0        66.0  11.236842 -10.839286              0.003533   \n",
       "\n",
       "        mean_norm_profit_loss  mean_norm_profit  ttl_win  ttl_loss  \\\n",
       "profit              -0.003394          0.000594    427.0    -303.5   \n",
       "\n",
       "        win_loss_rate  win_loss_ratio  profit_factor  net_profit  \n",
       "profit       0.575758        1.036677       1.406919       123.5  "
      ]
     },
     "execution_count": 13,
     "metadata": {},
     "output_type": "execute_result"
    }
   ],
   "source": [
    "df_win_loss"
   ]
  },
  {
   "cell_type": "code",
   "execution_count": null,
   "metadata": {},
   "outputs": [],
   "source": [
    "df_profits1.to_parquet('profits/STOAtNight.parquet')"
   ]
  },
  {
   "cell_type": "code",
   "execution_count": null,
   "metadata": {},
   "outputs": [],
   "source": [
    "from scipy.stats import binom\n",
    "\n",
    "sum(binom.pmf(x, 100, 0.60) for x in range(51, 101))"
   ]
  },
  {
   "cell_type": "code",
   "execution_count": null,
   "metadata": {},
   "outputs": [],
   "source": [
    "sum(binom.pmf(x, 100, 0.55) for x in range(51, 101))"
   ]
  },
  {
   "cell_type": "code",
   "execution_count": null,
   "metadata": {},
   "outputs": [],
   "source": [
    "binom.pmf(3, 3, 1 - 0.65)"
   ]
  },
  {
   "cell_type": "code",
   "execution_count": null,
   "metadata": {},
   "outputs": [],
   "source": []
  }
 ],
 "metadata": {
  "kernelspec": {
   "display_name": "Python 3",
   "language": "python",
   "name": "python3"
  },
  "language_info": {
   "codemirror_mode": {
    "name": "ipython",
    "version": 3
   },
   "file_extension": ".py",
   "mimetype": "text/x-python",
   "name": "python",
   "nbconvert_exporter": "python",
   "pygments_lexer": "ipython3",
   "version": "3.7.6"
  }
 },
 "nbformat": 4,
 "nbformat_minor": 4
}
