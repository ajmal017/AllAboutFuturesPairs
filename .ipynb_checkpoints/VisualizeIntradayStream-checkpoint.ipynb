{
 "cells": [
  {
   "cell_type": "code",
   "execution_count": 1,
   "metadata": {},
   "outputs": [],
   "source": [
    "import pandas as pd"
   ]
  },
  {
   "cell_type": "code",
   "execution_count": 2,
   "metadata": {},
   "outputs": [],
   "source": [
    "contract = 'MES_stream'"
   ]
  },
  {
   "cell_type": "code",
   "execution_count": 4,
   "metadata": {},
   "outputs": [],
   "source": [
    "df = pd.read_parquet(f'../futures_ta_data/{contract}_ta_data.parquet')"
   ]
  },
  {
   "cell_type": "code",
   "execution_count": null,
   "metadata": {},
   "outputs": [],
   "source": [
    "import plotly.graph_objects as go\n",
    "from plotly.subplots import make_subplots\n",
    "\n",
    "def make_day_plot(day_df, year, month):\n",
    "    seconds = (day_df.time.dt.hour * 3600) + (day_df.time.dt.minute * 60) + (day_df.time.dt.second)\n",
    "    day_df.loc[:, 'up'] = day_df.open < day_df.close\n",
    "    fig = make_subplots(rows=3, cols=1, row_heights=[0.5, 0.25, 0.25], shared_xaxes=True)\n",
    "\n",
    "    fig.add_trace(\n",
    "        go.Candlestick(\n",
    "            x=day_df.time, open=day_df.open, high=day_df.high, low=day_df.low, close=day_df.close, name='bars'\n",
    "        ),\n",
    "        row=1, col=1\n",
    "    )\n",
    "    fig.add_trace(\n",
    "        go.Scatter(\n",
    "            x=day_df.time, y=day_df.mv_avg, name='moving average', marker=dict(color='purple')\n",
    "        ),\n",
    "        row=1, col=1\n",
    "    )\n",
    "    '''\n",
    "    fig.add_trace(\n",
    "        go.Scatter(\n",
    "            x=day_df.time, y=day_df.dc_high, name='dc high', marker=dict(color='green')\n",
    "        ),\n",
    "        row=1, col=1\n",
    "    )\n",
    "    fig.add_trace(\n",
    "        go.Scatter(\n",
    "            x=day_df.time, y=day_df.dc_low, name='dc low', marker=dict(color='green')\n",
    "        ),\n",
    "        row=1, col=1\n",
    "    )\n",
    "    '''\n",
    "    fig.add_trace(\n",
    "        go.Scatter(\n",
    "            x=day_df.time, y=day_df.rsi, name='rsi', marker=dict(color='blue')\n",
    "        ),\n",
    "        row=2, col=1\n",
    "    )\n",
    "    fig.add_trace(\n",
    "        go.Scatter(\n",
    "            x=day_df.time, y=day_df.dc_perc, name='dc percentage', marker=dict(color='red')\n",
    "        ),\n",
    "        row=2, col=1\n",
    "    )\n",
    "    fig.add_trace(\n",
    "        go.Bar(x=day_df.time, y=day_df.volume, name='volume',\n",
    "               marker_color=['green' if day_df.loc[index].up else 'red' for index in day_df.index]),\n",
    "        row=3, col=1\n",
    "    )\n",
    "    fig.update_layout(title=f'Contract {year}-{month}', xaxis_rangeslider_visible=False)\n",
    "    return fig"
   ]
  },
  {
   "cell_type": "code",
   "execution_count": null,
   "metadata": {},
   "outputs": [],
   "source": [
    "import plotly\n",
    "\n",
    "for day in df['date'].unique():\n",
    "    day_df = df.loc[df['date'] == day]\n",
    "    if day_df.shape[0] > 0:\n",
    "        month = day_df.iloc[0].contract_month\n",
    "        year = day_df.iloc[0].contract_year\n",
    "        fig = make_day_plot(day_df, year, month)\n",
    "        str_date = str(day)\n",
    "        plotly.offline.plot(fig, filename=f'IntradayViz/{contract}_{str_date}.html', auto_open=False)"
   ]
  },
  {
   "cell_type": "code",
   "execution_count": null,
   "metadata": {},
   "outputs": [],
   "source": []
  },
  {
   "cell_type": "code",
   "execution_count": null,
   "metadata": {},
   "outputs": [],
   "source": []
  }
 ],
 "metadata": {
  "kernelspec": {
   "display_name": "Python 3",
   "language": "python",
   "name": "python3"
  },
  "language_info": {
   "codemirror_mode": {
    "name": "ipython",
    "version": 3
   },
   "file_extension": ".py",
   "mimetype": "text/x-python",
   "name": "python",
   "nbconvert_exporter": "python",
   "pygments_lexer": "ipython3",
   "version": "3.7.6"
  }
 },
 "nbformat": 4,
 "nbformat_minor": 4
}
