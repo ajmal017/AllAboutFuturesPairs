{
 "cells": [
  {
   "cell_type": "code",
   "execution_count": 1,
   "metadata": {},
   "outputs": [],
   "source": [
    "import pandas as pd"
   ]
  },
  {
   "cell_type": "code",
   "execution_count": 2,
   "metadata": {},
   "outputs": [],
   "source": [
    "contract = 'MES_stream'"
   ]
  },
  {
   "cell_type": "code",
   "execution_count": 3,
   "metadata": {},
   "outputs": [],
   "source": [
    "df = pd.read_parquet(f'../futures_ta_data/{contract}_ta_data.parquet')"
   ]
  },
  {
   "cell_type": "code",
   "execution_count": 4,
   "metadata": {},
   "outputs": [
    {
     "data": {
      "text/plain": [
       "0        20200702  18:00:00\n",
       "1        20200702  18:01:00\n",
       "2        20200702  18:02:00\n",
       "3        20200702  18:03:00\n",
       "4        20200702  18:04:00\n",
       "                ...        \n",
       "39623    20200812  22:23:00\n",
       "39624    20200812  22:24:00\n",
       "39625    20200812  22:25:00\n",
       "39626    20200812  22:26:00\n",
       "39627    20200812  22:27:00\n",
       "Name: date, Length: 39628, dtype: object"
      ]
     },
     "execution_count": 4,
     "metadata": {},
     "output_type": "execute_result"
    }
   ],
   "source": [
    "df.date"
   ]
  },
  {
   "cell_type": "code",
   "execution_count": 4,
   "metadata": {},
   "outputs": [],
   "source": [
    "df.loc[:, 'time'] = df.date.apply(lambda x: pd.Timestamp(x))\n",
    "df.loc[:, 'date'] = df.time.dt.date"
   ]
  },
  {
   "cell_type": "code",
   "execution_count": 5,
   "metadata": {},
   "outputs": [],
   "source": [
    "import plotly.graph_objects as go\n",
    "from plotly.subplots import make_subplots\n",
    "\n",
    "def make_day_plot(day_df):\n",
    "    seconds = (day_df.time.dt.hour * 3600) + (day_df.time.dt.minute * 60) + (day_df.time.dt.second)\n",
    "    day_df.loc[:, 'up'] = day_df.open < day_df.close\n",
    "    fig = make_subplots(rows=3, cols=1, row_heights=[0.5, 0.25, 0.25], shared_xaxes=True)\n",
    "\n",
    "    fig.add_trace(\n",
    "        go.Candlestick(\n",
    "            x=day_df.time, open=day_df.open, high=day_df.high, low=day_df.low, close=day_df.close, name='bars'\n",
    "        ),\n",
    "        row=1, col=1\n",
    "    )\n",
    "    fig.add_trace(\n",
    "        go.Scatter(\n",
    "            x=day_df.time, y=day_df.sma_pr, name='moving average', marker=dict(color='purple')\n",
    "        ),\n",
    "        row=1, col=1\n",
    "    )\n",
    "    fig.add_trace(\n",
    "        go.Scatter(\n",
    "            x=day_df.time, y=day_df.rsi, name='rsi', marker=dict(color='blue')\n",
    "        ),\n",
    "        row=2, col=1\n",
    "    )\n",
    "    fig.add_trace(\n",
    "        go.Bar(x=day_df.time, y=day_df.volume, name='volume',\n",
    "               marker_color=['green' if day_df.loc[index].up else 'red' for index in day_df.index]),\n",
    "        row=3, col=1\n",
    "    )\n",
    "    fig.update_layout(title=f'Contract ', xaxis_rangeslider_visible=False)\n",
    "    return fig"
   ]
  },
  {
   "cell_type": "code",
   "execution_count": 6,
   "metadata": {},
   "outputs": [
    {
     "name": "stderr",
     "output_type": "stream",
     "text": [
      "/Users/brianmcclanahan/opt/anaconda3/lib/python3.7/site-packages/pandas/core/indexing.py:844: SettingWithCopyWarning:\n",
      "\n",
      "\n",
      "A value is trying to be set on a copy of a slice from a DataFrame.\n",
      "Try using .loc[row_indexer,col_indexer] = value instead\n",
      "\n",
      "See the caveats in the documentation: https://pandas.pydata.org/pandas-docs/stable/user_guide/indexing.html#returning-a-view-versus-a-copy\n",
      "\n",
      "/Users/brianmcclanahan/opt/anaconda3/lib/python3.7/site-packages/pandas/core/indexing.py:965: SettingWithCopyWarning:\n",
      "\n",
      "\n",
      "A value is trying to be set on a copy of a slice from a DataFrame.\n",
      "Try using .loc[row_indexer,col_indexer] = value instead\n",
      "\n",
      "See the caveats in the documentation: https://pandas.pydata.org/pandas-docs/stable/user_guide/indexing.html#returning-a-view-versus-a-copy\n",
      "\n"
     ]
    }
   ],
   "source": [
    "import plotly\n",
    "\n",
    "for day in df.date.unique():\n",
    "    day_df = df.loc[df['date'] == day]\n",
    "    if day_df.shape[0] > 0:\n",
    "        fig = make_day_plot(day_df)\n",
    "        str_date = str(day)\n",
    "        plotly.offline.plot(fig, filename=f'IntradayViz/{contract}_{str_date}.html', auto_open=False)"
   ]
  },
  {
   "cell_type": "code",
   "execution_count": null,
   "metadata": {},
   "outputs": [],
   "source": []
  }
 ],
 "metadata": {
  "kernelspec": {
   "display_name": "Python 3",
   "language": "python",
   "name": "python3"
  },
  "language_info": {
   "codemirror_mode": {
    "name": "ipython",
    "version": 3
   },
   "file_extension": ".py",
   "mimetype": "text/x-python",
   "name": "python",
   "nbconvert_exporter": "python",
   "pygments_lexer": "ipython3",
   "version": "3.7.6"
  }
 },
 "nbformat": 4,
 "nbformat_minor": 4
}
