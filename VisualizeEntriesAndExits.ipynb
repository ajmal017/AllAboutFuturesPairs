{
 "cells": [
  {
   "cell_type": "code",
   "execution_count": 29,
   "metadata": {},
   "outputs": [],
   "source": [
    "import pandas as pd\n",
    "\n",
    "#df = pd.read_parquet('profits/STOAtNight.parquet')\n",
    "df = pd.read_parquet('profits/STOShort.parquet')"
   ]
  },
  {
   "cell_type": "code",
   "execution_count": 30,
   "metadata": {},
   "outputs": [],
   "source": [
    "df.loc[:, 'cash_vol'] = df.volume * df.close"
   ]
  },
  {
   "cell_type": "code",
   "execution_count": 25,
   "metadata": {},
   "outputs": [],
   "source": [
    "df.loc[:, 'date'] = df.time"
   ]
  },
  {
   "cell_type": "code",
   "execution_count": 31,
   "metadata": {},
   "outputs": [],
   "source": [
    "indicators = ['sto']\n",
    "enters = [['sto_oversold_enter']]\n",
    "exits = [['exits']]"
   ]
  },
  {
   "cell_type": "code",
   "execution_count": 32,
   "metadata": {},
   "outputs": [],
   "source": [
    "from plotly.subplots import make_subplots\n",
    "import plotly.graph_objs as go\n",
    "import plotly\n",
    "\n",
    "def create_indicator_plots(sym_df, indicators, enters, strategy='sto', symbol='MES'):\n",
    "    fig = make_subplots(rows=2, cols=1, shared_xaxes=True)\n",
    "    fig.add_trace(\n",
    "        go.Candlestick(open=sym_df.open, high=sym_df.high, low=sym_df.low, close=sym_df.close, x=sym_df.date),\n",
    "        row=1,col=1\n",
    "    )\n",
    "    sub_df = sym_df.loc[sym_df['actual_enter'] == 1]\n",
    "    fig.add_trace(\n",
    "        go.Scatter(x=sub_df.date, y=sub_df.close, mode='markers', name='enter',\n",
    "                   marker_color='blue'),\n",
    "        row=1, col=1\n",
    "    )\n",
    "\n",
    "    sub_df = sym_df.loc[sym_df['actual_exit'] == 1]\n",
    "    fig.add_trace(\n",
    "        go.Scatter(x=sub_df.date, y=sub_df.close, mode='markers', name='exit',\n",
    "                   marker_color='purple'),\n",
    "        row=1, col=1\n",
    "    )\n",
    "    for ind, indicator in enumerate(indicators):\n",
    "        \n",
    "        fig.add_trace(\n",
    "            go.Scatter(x=sym_df.date, y=sym_df[indicator], mode='lines', name=indicator),\n",
    "            row=2, col=1\n",
    "        )\n",
    "        fig.update_layout(xaxis_rangeslider_visible=False)\n",
    "    plotly.offline.plot(fig, filename = 'indicator_viz/%s_%s.html' % (symbol, strategy), auto_open=False)"
   ]
  },
  {
   "cell_type": "code",
   "execution_count": 33,
   "metadata": {},
   "outputs": [],
   "source": [
    "create_indicator_plots(df, indicators, enters, symbol='MES_short')"
   ]
  },
  {
   "cell_type": "code",
   "execution_count": null,
   "metadata": {},
   "outputs": [],
   "source": [
    "df"
   ]
  },
  {
   "cell_type": "code",
   "execution_count": null,
   "metadata": {},
   "outputs": [],
   "source": []
  }
 ],
 "metadata": {
  "kernelspec": {
   "display_name": "Python 3",
   "language": "python",
   "name": "python3"
  },
  "language_info": {
   "codemirror_mode": {
    "name": "ipython",
    "version": 3
   },
   "file_extension": ".py",
   "mimetype": "text/x-python",
   "name": "python",
   "nbconvert_exporter": "python",
   "pygments_lexer": "ipython3",
   "version": "3.7.6"
  }
 },
 "nbformat": 4,
 "nbformat_minor": 4
}
