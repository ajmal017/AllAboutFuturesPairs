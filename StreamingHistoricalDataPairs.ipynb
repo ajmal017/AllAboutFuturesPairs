{
 "cells": [
  {
   "cell_type": "code",
   "execution_count": 1,
   "metadata": {},
   "outputs": [],
   "source": [
    "import ibalgo_pairs as ibalgo"
   ]
  },
  {
   "cell_type": "code",
   "execution_count": 2,
   "metadata": {},
   "outputs": [],
   "source": [
    "def rsi_long(online_indicator, rsi_threshold=35,):\n",
    "    indicators =  online_indicator.temp_indicator\n",
    "    condition = indicators.rsi < rsi_threshold\n",
    "    return condition\n"
   ]
  },
  {
   "cell_type": "code",
   "execution_count": 3,
   "metadata": {},
   "outputs": [],
   "source": [
    "entry_rsi_long_buy = ibalgo.Entry(rsi_long, entry_price_offset=0, rsi_threshold=35, action='BUY')"
   ]
  },
  {
   "cell_type": "code",
   "execution_count": 4,
   "metadata": {},
   "outputs": [],
   "source": [
    "from collections import OrderedDict \n",
    "\n",
    "mes_online_indicator = ibalgo.OnlineIndicator(sto_period=(60), rsi_period=30, sma_period=(12 * 24 * 3), vol_slow_period=200, pr_diff_ewa_period=200, pr_ewa_period=20)#6000) #1000 here is questionable\n",
    "mnq_online_indicator = ibalgo.OnlineIndicator(sto_period=(60), rsi_period=30, sma_period=(12 * 24 * 3), vol_slow_period=200, pr_diff_ewa_period=200, pr_ewa_period=20)#6000) #1000 here is questionable\n",
    "pair_online_indicator = ibalgo.OnlineIndicator(sto_period=(60), rsi_period=30, sma_period=(12 * 24 * 3), vol_slow_period=200, pr_diff_ewa_period=200, pr_ewa_period=20)#6000) #1000 here is questionable\n",
    "\n",
    "online_indicators = OrderedDict(MNQ=mnq_online_indicator, MES=mes_online_indicator)"
   ]
  },
  {
   "cell_type": "code",
   "execution_count": 5,
   "metadata": {},
   "outputs": [],
   "source": [
    "entry_obj_dict = {'rsi_long': entry_rsi_long_buy}"
   ]
  },
  {
   "cell_type": "code",
   "execution_count": 6,
   "metadata": {},
   "outputs": [],
   "source": [
    "app = ibalgo.App(\n",
    "    entry_objs=entry_obj_dict,\n",
    "    online_indicators=online_indicators,\n",
    "    pair_online_indicator=pair_online_indicator,\n",
    "    show_indicators=['open', 'high', 'low', 'close', 'volume',\n",
    "                     'rsi', 'adx', 'mean_pr', 'sma_pr',\n",
    "                     'ewa_pr', 'pr_diff_ewa', 'volume_roc', 'sto',\n",
    "                     'sto_high', 'sto_low'],\n",
    "    trade_mode=False\n",
    ")"
   ]
  },
  {
   "cell_type": "code",
   "execution_count": 7,
   "metadata": {},
   "outputs": [],
   "source": [
    "app.connect('127.0.0.1',  7497, clientId=0)"
   ]
  },
  {
   "cell_type": "code",
   "execution_count": 8,
   "metadata": {},
   "outputs": [
    {
     "name": "stdout",
     "output_type": "stream",
     "text": [
      "symbol  MNQ  req id  2020091846\n",
      "symbol  MES  req id  2020091851\n"
     ]
    }
   ],
   "source": [
    "appl_req_ids = app.get_historical_and_trade_strategy_futs(\n",
    "    close_app=True, only_RTH=0, history_len=30,  bar_length=1, bar_unit='min',\n",
    "    secType='FUT', exchange='GLOBEX', trade_strategy_cnt_thresh=80,\n",
    "    transmit=True, order_timeout=30)"
   ]
  },
  {
   "cell_type": "code",
   "execution_count": 9,
   "metadata": {},
   "outputs": [
    {
     "name": "stderr",
     "output_type": "stream",
     "text": [
      "ERROR -1 2104 Market data farm connection is OK:usfuture\n",
      "ERROR -1 2106 HMDS data farm connection is OK:euhmds\n",
      "ERROR -1 2106 HMDS data farm connection is OK:fundfarm\n",
      "ERROR -1 2106 HMDS data farm connection is OK:ushmds\n",
      "ERROR -1 2158 Sec-def data farm connection is OK:secdefnj\n"
     ]
    },
    {
     "name": "stdout",
     "output_type": "stream",
     "text": [
      "got account list U3443642\n",
      "next valid id:  61\n",
      "Error. Id: -1 Code: 2104 Msg: Market data farm connection is OK:usfuture\n",
      "Error. Id: -1 Code: 2106 Msg: HMDS data farm connection is OK:euhmds\n",
      "Error. Id: -1 Code: 2106 Msg: HMDS data farm connection is OK:fundfarm\n",
      "Error. Id: -1 Code: 2106 Msg: HMDS data farm connection is OK:ushmds\n",
      "Error. Id: -1 Code: 2158 Msg: Sec-def data farm connection is OK:secdefnj\n",
      "HistoricalDataEnd. ReqId: 2020091851 from 20200724  19:26:51 to 20200823  19:26:51\n",
      "ids  {'MNQ': [2020091846], 'MES': [2020091851]}\n",
      "checking len for  MES True\n",
      "creating dataframe for  MES\n",
      "HistoricalDataEnd. ReqId: 2020091846 from 20200724  19:26:51 to 20200823  19:26:51\n",
      "ids  {'MNQ': [2020091846], 'MES': []}\n",
      "checking len for  MNQ True\n",
      "creating dataframe for  MNQ\n"
     ]
    }
   ],
   "source": [
    "app.run()"
   ]
  },
  {
   "cell_type": "code",
   "execution_count": 10,
   "metadata": {},
   "outputs": [],
   "source": [
    "app.pair_df.to_parquet('../futures_ta_data/MES_MNQ_stream_ta_data1.parquet')"
   ]
  },
  {
   "cell_type": "code",
   "execution_count": null,
   "metadata": {},
   "outputs": [],
   "source": []
  }
 ],
 "metadata": {
  "kernelspec": {
   "display_name": "Python 3",
   "language": "python",
   "name": "python3"
  },
  "language_info": {
   "codemirror_mode": {
    "name": "ipython",
    "version": 3
   },
   "file_extension": ".py",
   "mimetype": "text/x-python",
   "name": "python",
   "nbconvert_exporter": "python",
   "pygments_lexer": "ipython3",
   "version": "3.7.6"
  }
 },
 "nbformat": 4,
 "nbformat_minor": 4
}
