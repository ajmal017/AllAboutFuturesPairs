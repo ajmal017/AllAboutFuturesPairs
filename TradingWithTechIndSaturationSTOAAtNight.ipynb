{
 "cells": [
  {
   "cell_type": "code",
   "execution_count": null,
   "metadata": {},
   "outputs": [],
   "source": [
    "import ibalgo"
   ]
  },
  {
   "cell_type": "code",
   "execution_count": null,
   "metadata": {},
   "outputs": [],
   "source": [
    "def rsi_long(online_indicator, rsi_threshold=35,):\n",
    "    indicators =  online_indicator.temp_indicator\n",
    "    condition = (indicators.rsi < rsi_threshold) # and (indicators.low < 3345)\n",
    "    return condition\n",
    "\n",
    "def sto_long_w_price_point(online_indicator, sto_threshold=20, sto_range_thresh=8, price_point=3360):\n",
    "    indicators =  online_indicator.temp_indicator\n",
    "    condition = (indicators.sto < sto_threshold) and ((indicators.sto_high - indicators.sto_low) > sto_range_thresh) and (indicators.close <= price_point)\n",
    "    return condition\n",
    "\n",
    "def sto_long_at_night(online_indicator, sto_threshold=20, sto_range_thresh=35, rsi_thresh=55):\n",
    "    indicators =  online_indicator.temp_indicator\n",
    "    condition = (indicators.sto < sto_threshold) and ((indicators.sto_high - indicators.sto_low) >= sto_range_thresh) and (indicators.rsi < rsi_thresh)\n",
    "    return condition\n"
   ]
  },
  {
   "cell_type": "code",
   "execution_count": null,
   "metadata": {},
   "outputs": [],
   "source": [
    "entry_sto_long_buy = ibalgo.Entry(sto_long_at_night, entry_price_offset=0, action='BUY',\n",
    "                                  stop_loss=10.00, profit_taker=20.00, trade_wait_tm=15,\n",
    "                                  quantity=2)"
   ]
  },
  {
   "cell_type": "code",
   "execution_count": null,
   "metadata": {},
   "outputs": [],
   "source": [
    "#online_indicator = ibalgo.OnlineIndicator(sto_period=60) # daytime (higher frequency trades)\n",
    "online_indicator = ibalgo.OnlineIndicator(sto_period=(60 * 24), rsi_period=25) # nightime"
   ]
  },
  {
   "cell_type": "code",
   "execution_count": null,
   "metadata": {},
   "outputs": [],
   "source": [
    "entry_obj_dict = {'sto_long': entry_sto_long_buy}"
   ]
  },
  {
   "cell_type": "code",
   "execution_count": null,
   "metadata": {},
   "outputs": [],
   "source": [
    "app = ibalgo.App(\n",
    "    entry_objs=entry_obj_dict,\n",
    "    online_indicator=online_indicator,\n",
    "    show_indicators=['open', 'high', 'low', 'close', 'volume',\n",
    "                     'rsi', 'adx', 'mean_pr', 'sma_pr',\n",
    "                     'ewa_pr', 'pr_diff_ewa', 'volume_roc', 'sto',\n",
    "                     'sto_high', 'sto_low'],\n",
    "    trade_mode=True, trade_and_disconnect=False,\n",
    "    trade_loss_disconnect=True, loss_limit=1,\n",
    "    loss_timeout=1\n",
    ")"
   ]
  },
  {
   "cell_type": "code",
   "execution_count": null,
   "metadata": {},
   "outputs": [],
   "source": [
    "app.connect('127.0.0.1',  7497, clientId=0)"
   ]
  },
  {
   "cell_type": "code",
   "execution_count": null,
   "metadata": {},
   "outputs": [],
   "source": [
    "appl_req_ids = app.get_historical_and_trade_strategy_futs(\n",
    "    'MES', close_app=True, only_RTH=0, history_len=20,  bar_length=1, bar_unit='min',\n",
    "    secType='FUT', exchange='GLOBEX', trade_strategy_cnt_thresh=10,\n",
    "    transmit=True)"
   ]
  },
  {
   "cell_type": "code",
   "execution_count": null,
   "metadata": {},
   "outputs": [],
   "source": [
    "app.run()"
   ]
  },
  {
   "cell_type": "code",
   "execution_count": null,
   "metadata": {},
   "outputs": [],
   "source": [
    "app.historical_indicators_df.to_parquet(f'{app.logging_dir}/streaming_data.parquet')"
   ]
  },
  {
   "cell_type": "code",
   "execution_count": null,
   "metadata": {},
   "outputs": [],
   "source": []
  }
 ],
 "metadata": {
  "kernelspec": {
   "display_name": "Python 3",
   "language": "python",
   "name": "python3"
  },
  "language_info": {
   "codemirror_mode": {
    "name": "ipython",
    "version": 3
   },
   "file_extension": ".py",
   "mimetype": "text/x-python",
   "name": "python",
   "nbconvert_exporter": "python",
   "pygments_lexer": "ipython3",
   "version": "3.7.6"
  }
 },
 "nbformat": 4,
 "nbformat_minor": 4
}
