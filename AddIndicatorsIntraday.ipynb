{
 "cells": [
  {
   "cell_type": "code",
   "execution_count": 16,
   "metadata": {},
   "outputs": [],
   "source": [
    "contract = 'MES'"
   ]
  },
  {
   "cell_type": "code",
   "execution_count": 17,
   "metadata": {},
   "outputs": [],
   "source": [
    "import pandas as pd\n",
    "\n",
    "df = pd.read_parquet(f'../futures_data/{contract}.parquet')\n",
    "df.loc[:, 'date'] = df.time.dt.date\n",
    "df.loc[:, 'adj_close'] = df.close\n",
    "df.loc[:, 'adj_high'] = df.high\n",
    "df.loc[:, 'adj_low'] = df.low\n",
    "df.loc[:, 'adj_open'] = df.open\n",
    "df.loc[:, 'Volume'] = df.volume"
   ]
  },
  {
   "cell_type": "code",
   "execution_count": 18,
   "metadata": {},
   "outputs": [],
   "source": [
    "import ta\n",
    "import numpy as np\n",
    "\n",
    "def mean_atr(df, atr_period=14):\n",
    "    df.loc[:, 'last_close'] = df.adj_close.shift(1)\n",
    "    atr_high = np.maximum(df.high_adj, df.last_close)\n",
    "    atr_low = np.minimum(df.high_adj, df.last_close) \n",
    "    atr = atr_high - atr_low\n",
    "    return atr, atr.ewm(span=atr_period, adjust=False).mean()\n",
    "\n",
    "def mean_close_diff_norm(close, ma):\n",
    "    return (close - ma) / ma\n",
    "\n",
    "def manual_mfi(df, period):\n",
    "    mfi_df = df[['adj_close', 'time', 'Volume']].set_index('time')\n",
    "    mfi_df.loc[:, 'prev_close'] = mfi_df.adj_close.shift(1)\n",
    "    mfi_df.loc[:, 'perc_change'] = (mfi_df.prev_close - mfi_df.adj_close).abs() / mfi_df.adj_close\n",
    "    up_index = mfi_df.adj_close > mfi_df.prev_close\n",
    "    down_index = mfi_df.adj_close < mfi_df.prev_close\n",
    "    mfi_df.loc[:, 'avg_up'] = 0\n",
    "    mfi_df.loc[:, 'avg_down'] = 0\n",
    "    mfi_df.loc[up_index, 'avg_up'] = mfi_df.loc[up_index, 'perc_change'] * mfi_df.loc[up_index, 'Volume']\n",
    "    mfi_df.loc[down_index, 'avg_down'] = mfi_df.loc[down_index, 'perc_change'] * mfi_df.loc[down_index, 'Volume']\n",
    "    mfi_df.loc[:, 'avg_up'] = mfi_df.loc[:, 'avg_up'].ewm(alpha=1.0 / period, adjust=False).mean()\n",
    "    mfi_df.loc[:, 'avg_down'] = mfi_df.loc[:, 'avg_down'].ewm(alpha=1.0 / period, adjust=False).mean()\n",
    "    mfi = (100.0 - (100.0 / (1 + (mfi_df.avg_up / mfi_df.avg_down)))).values\n",
    "    return mfi\n",
    "\n",
    "\n",
    "def generate_ta_features(sym_df,\n",
    "                         macd_n_slow: int = 26, macd_n_fast: int = 12, macd_n_sign: int = 9,\n",
    "                         rsi_period=5, roc_period=45, roc_short_period=4, fut_roc_period=5, mfi_period=5,\n",
    "                         sto_period=14, atr_period=14, volitility_short_period=2, volitility_medium_period=7, bba_period=20,\n",
    "                         dch_period=20, ma_period=14):\n",
    "    sym_df = sym_df.sort_values('time')\n",
    "    sym_df.loc[:, 'mv_avg'] = sym_df.set_index(\n",
    "        'time'\n",
    "    ).adj_close.rolling(ma_period, min_periods=1).mean().values\n",
    "    macd = ta.trend.MACD(sym_df.adj_close, n_slow=macd_n_slow, n_fast=macd_n_fast, n_sign=macd_n_sign)\n",
    "    rsi = ta.momentum.RSIIndicator(close=sym_df.adj_close, n=rsi_period).rsi()\n",
    "    roc = ta.momentum.ROCIndicator(sym_df.adj_close, n=roc_period).roc()\n",
    "    roc_short = ta.momentum.ROCIndicator(sym_df.adj_close, n=roc_short_period).roc()\n",
    "    roc_fut = ta.momentum.ROCIndicator(sym_df.adj_close, n=fut_roc_period).roc()\n",
    "    '''\n",
    "    mfi = ta.momentum.MFIIndicator(\n",
    "        high=sym_df.adj_high, low=sym_df.adj_low,\n",
    "        close=sym_df.adj_close, volume=sym_df.Volume,\n",
    "        n=mfi_period\n",
    "    ).money_flow_index()\n",
    "    '''\n",
    "    sto = ta.momentum.StochasticOscillator(high=sym_df.adj_high, low=sym_df.adj_low, close=sym_df.adj_close,\n",
    "                                     n=sto_period).stoch_signal()\n",
    "    bb = ta.volatility.BollingerBands(close=sym_df.adj_close, n=bba_period)\n",
    "    bb_high = bb.bollinger_hband()\n",
    "    bb_low = bb.bollinger_lband()\n",
    "    bba = bb_high - bb_low\n",
    "    dc = ta.volatility.DonchianChannel(close=sym_df.adj_close, n=dch_period, high=sym_df.adj_high,\n",
    "                                       low=sym_df.adj_low)\n",
    "    dc_high = dc.donchian_channel_hband()\n",
    "    dc_low = dc.donchian_channel_lband()\n",
    "    dch = dc_high - dc_low\n",
    "    sym_df.loc[:, 'dc_high'] = dc_high\n",
    "    sym_df.loc[:, 'dc_low'] = dc_low\n",
    "    sym_df.loc[:, 'dc_perc'] = ((df.adj_close - dc_low) / dch) * 100\n",
    "    sym_df.loc[:, 'macd'] = macd.macd()\n",
    "    sym_df.loc[:, 'macd_signal'] = macd.macd_signal()\n",
    "    sym_df.loc[:, 'macd_hist'] = macd.macd_diff()\n",
    "    sym_df.loc[:, 'rsi'] = rsi\n",
    "    sym_df.loc[:, 'roc'] = roc\n",
    "    sym_df.loc[:, 'roc_short'] = roc_short\n",
    "    sym_df.loc[:, 'fut_roc'] = roc_fut.shift(-fut_roc_period)\n",
    "    #sym_df.loc[:, 'mfi'] = mfi\n",
    "    sym_df.loc[:, 'sto'] = sto\n",
    "    sym_df.loc[:, 'bba'] = bba\n",
    "    sym_df.loc[:, 'dch'] = dch\n",
    "    sym_df.loc[:, 'bba_norm'] = bba / sym_df.adj_close\n",
    "    sym_df.loc[:, 'dch_norm'] = dch / sym_df.adj_close\n",
    "    sym_df.loc[:, 'ma_diff_norm'] = mean_close_diff_norm(sym_df.adj_close, sym_df.mv_avg)\n",
    "    volatility_base = (sym_df.adj_close.diff() / sym_df.adj_close.shift(1)).abs()\n",
    "    sym_df.loc[:, 'volatility'] = volatility_base.ewm(span=atr_period, adjust=False).mean()\n",
    "    sym_df.loc[:, 'volatility_short'] = volatility_base.ewm(span=volitility_short_period, adjust=False).mean()\n",
    "    sym_df.loc[:, 'volatility_medium'] = volatility_base.ewm(span=volitility_medium_period, adjust=False).mean()\n",
    "    sym_df.loc[:, 'directional_strength'] = -(sym_df.adj_close.diff() / sym_df.adj_close.shift(1)).ewm(span=atr_period,\n",
    "                                                                                                      adjust=False).mean()\n",
    "    return sym_df"
   ]
  },
  {
   "cell_type": "code",
   "execution_count": 19,
   "metadata": {},
   "outputs": [],
   "source": [
    "ta_feats = generate_ta_features(df, rsi_period=(12), dch_period=(12 * 4), ma_period=(12 * 24 * 3))"
   ]
  },
  {
   "cell_type": "code",
   "execution_count": 20,
   "metadata": {},
   "outputs": [],
   "source": [
    "ta_feats.to_parquet(f'../futures_ta_data/{contract}_ta_data.parquet')"
   ]
  },
  {
   "cell_type": "code",
   "execution_count": null,
   "metadata": {},
   "outputs": [],
   "source": []
  }
 ],
 "metadata": {
  "kernelspec": {
   "display_name": "Python 3",
   "language": "python",
   "name": "python3"
  },
  "language_info": {
   "codemirror_mode": {
    "name": "ipython",
    "version": 3
   },
   "file_extension": ".py",
   "mimetype": "text/x-python",
   "name": "python",
   "nbconvert_exporter": "python",
   "pygments_lexer": "ipython3",
   "version": "3.7.6"
  }
 },
 "nbformat": 4,
 "nbformat_minor": 4
}
